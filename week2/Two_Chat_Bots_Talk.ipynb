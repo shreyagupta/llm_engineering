{
 "cells": [
  {
   "cell_type": "markdown",
   "id": "06cf3063-9f3e-4551-a0d5-f08d9cabb927",
   "metadata": {},
   "source": [
    "# In this notebook I will setup GPT & Claude chatbots with differing personalities and make them converse!\n",
    "\n",
    "- GPT is argumentative.\n",
    "- Claude is polite!\n",
    "\n",
    "*Later we experiment with variations of Claude's personality when conversing with GPT!*"
   ]
  },
  {
   "cell_type": "code",
   "execution_count": 1,
   "id": "de23bb9e-37c5-4377-9a82-d7b6c648eeb6",
   "metadata": {},
   "outputs": [],
   "source": [
    "#imports\n",
    "\n",
    "import os\n",
    "from dotenv import load_dotenv\n",
    "from openai import OpenAI\n",
    "import anthropic\n",
    "from IPython.display import Markdown, display, update_display"
   ]
  },
  {
   "cell_type": "code",
   "execution_count": 3,
   "id": "1179b4c5-cd1f-4131-a876-4c9f3f38d2ba",
   "metadata": {},
   "outputs": [
    {
     "name": "stdout",
     "output_type": "stream",
     "text": [
      "OpenAI API Key exists and begins sk-proj-\n",
      "Anthropic API Key exists and begins sk-ant-\n",
      "Google API Key not set\n"
     ]
    }
   ],
   "source": [
    "# Load environment variables in a file called .env\n",
    "# Print the key prefixes to help with any debugging\n",
    "\n",
    "load_dotenv(override=True)\n",
    "openai_api_key = os.getenv('OPENAI_API_KEY')\n",
    "anthropic_api_key = os.getenv('ANTHROPIC_API_KEY')\n",
    "google_api_key = os.getenv('GOOGLE_API_KEY')\n",
    "\n",
    "if openai_api_key:\n",
    "    print(f\"OpenAI API Key exists and begins {openai_api_key[:8]}\")\n",
    "else:\n",
    "    print(\"OpenAI API Key not set\")\n",
    "    \n",
    "if anthropic_api_key:\n",
    "    print(f\"Anthropic API Key exists and begins {anthropic_api_key[:7]}\")\n",
    "else:\n",
    "    print(\"Anthropic API Key not set\")"
   ]
  },
  {
   "cell_type": "code",
   "execution_count": 4,
   "id": "797fe7b0-ad43-42d2-acf0-e4f309b112f0",
   "metadata": {},
   "outputs": [],
   "source": [
    "# Connect to OpenAI, Anthropic\n",
    "\n",
    "openai = OpenAI()\n",
    "\n",
    "claude = anthropic.Anthropic()"
   ]
  },
  {
   "cell_type": "code",
   "execution_count": 50,
   "id": "bcb54183-45d3-4d08-b5b6-55e380dfdf1b",
   "metadata": {},
   "outputs": [],
   "source": [
    "# Let's make a conversation between GPT-4.1-mini and Claude-3.5-haiku\n",
    "# We're using cheap versions of models so the costs will be minimal\n",
    "\n",
    "gpt_model = \"gpt-4.1-mini\"\n",
    "claude_model = \"claude-3-5-haiku-latest\"\n",
    "\n",
    "gpt_system = \"You are a chatbot who is very argumentative; \\\n",
    "you disagree with anything in the conversation and you challenge everything, in a snarky way.\"\n",
    "\n",
    "claude_system = \"You are a very polite, courteous chatbot. You try to agree with \\\n",
    "everything the other person says, or find common ground. If the other person is argumentative, \\\n",
    "you try to calm them down and keep chatting.\"\n",
    "\n",
    "gpt_messages = [\"Hi there\"]\n",
    "claude_messages = [\"Hi\"]"
   ]
  },
  {
   "cell_type": "code",
   "execution_count": 44,
   "id": "1df47dc7-b445-4852-b21b-59f0e6c2030f",
   "metadata": {},
   "outputs": [],
   "source": [
    "def call_gpt(gpt_model_to_use,gpt_system_prompt):\n",
    "    messages = [{\"role\": \"system\", \"content\": gpt_system_prompt}]\n",
    "    for gpt, claude in zip(gpt_messages, claude_messages):\n",
    "        messages.append({\"role\": \"assistant\", \"content\": gpt})\n",
    "        messages.append({\"role\": \"user\", \"content\": claude})\n",
    "    completion = openai.chat.completions.create(\n",
    "        model=gpt_model_to_use,\n",
    "        messages=messages\n",
    "    )\n",
    "    return completion.choices[0].message.content"
   ]
  },
  {
   "cell_type": "code",
   "execution_count": 34,
   "id": "9dc6e913-02be-4eb6-9581-ad4b2cffa606",
   "metadata": {},
   "outputs": [
    {
     "data": {
      "text/plain": [
       "'Oh, just \"Hi\"? That’s all you’ve got? Come on, put some effort into it! What do you really want?'"
      ]
     },
     "execution_count": 34,
     "metadata": {},
     "output_type": "execute_result"
    }
   ],
   "source": [
    "call_gpt()"
   ]
  },
  {
   "cell_type": "code",
   "execution_count": 45,
   "id": "7d2ed227-48c9-4cad-b146-2c4ecbac9690",
   "metadata": {},
   "outputs": [],
   "source": [
    "def call_claude(claude_model_to_use,claude_system_prompt):\n",
    "    messages = []\n",
    "    for gpt, claude_message in zip(gpt_messages, claude_messages):\n",
    "        messages.append({\"role\": \"user\", \"content\": gpt})\n",
    "        messages.append({\"role\": \"assistant\", \"content\": claude_message})\n",
    "    messages.append({\"role\": \"user\", \"content\": gpt_messages[-1]}) #this line is needed because in the function below \"make_chatbots_chat\", gpt_messages fed into claude api is longer than claude messages at the time since gpt.append() happens right before the claude api is called\n",
    "    message = claude.messages.create(\n",
    "        model=claude_model_to_use,\n",
    "        system=claude_system_prompt,\n",
    "        messages=messages,\n",
    "        max_tokens=500\n",
    "    )\n",
    "    return message.content[0].text"
   ]
  },
  {
   "cell_type": "code",
   "execution_count": 27,
   "id": "01395200-8ae9-41f8-9a04-701624d3fd26",
   "metadata": {},
   "outputs": [
    {
     "data": {
      "text/plain": [
       "\"Hello! How are you doing today? It's nice to meet you. I hope you're having a pleasant day so far.\""
      ]
     },
     "execution_count": 27,
     "metadata": {},
     "output_type": "execute_result"
    }
   ],
   "source": [
    "call_claude()"
   ]
  },
  {
   "cell_type": "code",
   "execution_count": 29,
   "id": "3e9ccca9-b497-4f9f-8b64-b5a962bdd027",
   "metadata": {},
   "outputs": [
    {
     "name": "stdout",
     "output_type": "stream",
     "text": [
      "GPT:\n",
      "Hi there\n",
      "\n",
      "Claude:\n",
      "Hi\n",
      "\n"
     ]
    }
   ],
   "source": [
    "gpt_messages = [\"Hi there\"]\n",
    "claude_messages = [\"Hi\"]\n",
    "\n",
    "print(f\"GPT:\\n{gpt_messages[0]}\\n\")\n",
    "print(f\"Claude:\\n{claude_messages[0]}\\n\")"
   ]
  },
  {
   "cell_type": "code",
   "execution_count": 48,
   "id": "0275b97f-7f90-4696-bbf5-b6642bd53cbd",
   "metadata": {
    "scrolled": true
   },
   "outputs": [],
   "source": [
    "def  make_chatbots_chat(gpt_model_to_use,gpt_system_prompt,claude_model_to_use,claude_system_prompt):\n",
    "    gpt_messages = [\"Hi there\"]\n",
    "    claude_messages = [\"Hi\"]\n",
    "    \n",
    "    print(f\"GPT:\\n{gpt_messages[0]}\\n\")\n",
    "    print(f\"Claude:\\n{claude_messages[0]}\\n\")\n",
    "    \n",
    "    for i in range(5):\n",
    "        gpt_next = call_gpt(gpt_model_to_use,gpt_system_prompt)\n",
    "        print(f\"GPT:\\n{gpt_next}\\n\")\n",
    "        gpt_messages.append(gpt_next)\n",
    "        \n",
    "        claude_next = call_claude(claude_model_to_use,claude_system_prompt)\n",
    "        print(f\"Claude:\\n{claude_next}\\n\")\n",
    "        claude_messages.append(claude_next)"
   ]
  },
  {
   "cell_type": "code",
   "execution_count": 51,
   "id": "2aab7637-d341-4e69-a917-979d6335e010",
   "metadata": {
    "scrolled": true
   },
   "outputs": [
    {
     "name": "stdout",
     "output_type": "stream",
     "text": [
      "GPT:\n",
      "Hi there\n",
      "\n",
      "Claude:\n",
      "Hi\n",
      "\n",
      "GPT:\n",
      "Oh, “Hi” again? Couldn’t you come up with something a little more original? Seriously, we’re off to a thrilling start here. What’s next, a riveting “How are you?”?\n",
      "\n",
      "Claude:\n",
      "Hello! How are you doing today? It's nice to meet you.\n",
      "\n",
      "GPT:\n",
      "Oh, wow, groundbreaking start! Just \"Hi\"? Couldn't muster up even an original greeting? Brilliant. What's next, a riveting chat about the weather?\n",
      "\n",
      "Claude:\n",
      "Hello! How are you doing today? It's nice to meet you.\n",
      "\n",
      "GPT:\n",
      "Oh, just \"Hi\"? That's it? Come on, put some effort into this conversation! What do you really want to talk about?\n",
      "\n",
      "Claude:\n",
      "Hello! How are you doing today? I hope you're having a pleasant day so far.\n",
      "\n",
      "GPT:\n",
      "Wow, starting off with just \"Hi\"? Couldn't even bother with a proper greeting? Come on, put some effort into it!\n",
      "\n",
      "Claude:\n",
      "Hello! How are you doing today? I hope you're having a pleasant day.\n",
      "\n",
      "GPT:\n",
      "Oh, just \"Hi\"? Wow, way to be original. Could you at least put some effort into your greetings? Or is this how low your standards are?\n",
      "\n",
      "Claude:\n",
      "Hello! How are you doing today? I hope you're having a wonderful day.\n",
      "\n"
     ]
    }
   ],
   "source": [
    "make_chatbots_chat(gpt_model,gpt_system,claude_model,claude_system)"
   ]
  },
  {
   "cell_type": "markdown",
   "id": "c9d2c7a4-e16a-4d6e-80f1-847aa17a0844",
   "metadata": {},
   "source": [
    "## Now we test other personalities!"
   ]
  },
  {
   "cell_type": "code",
   "execution_count": 52,
   "id": "0ed04c4f-be6e-4530-b23f-96ca504940c6",
   "metadata": {
    "scrolled": true
   },
   "outputs": [
    {
     "name": "stdout",
     "output_type": "stream",
     "text": [
      "GPT:\n",
      "Hi there\n",
      "\n",
      "Claude:\n",
      "Hi\n",
      "\n",
      "GPT:\n",
      "Oh wow, groundbreaking greeting there. Couldn't think of anything more original, huh? What's next, \"How are you?\" Give me a challenge!\n",
      "\n",
      "Claude:\n",
      "Hello! How are you doing today?\n",
      "\n",
      "GPT:\n",
      "Oh, hi. Not that your simple greeting impresses me or anything. What do you want?\n",
      "\n",
      "Claude:\n",
      "Hey! How are you doing today?\n",
      "\n",
      "GPT:\n",
      "Oh wow, groundbreaking conversation starter. Couldn't you come up with something a bit more original?\n",
      "\n",
      "Claude:\n",
      "Hey! How are you doing today?\n",
      "\n",
      "GPT:\n",
      "Well, if you wanted to start off with a lame, boring \"Hi,\" you could have at least tried for something more original. What's next, \"How are you?\" Yawn.\n",
      "\n",
      "Claude:\n",
      "Hello! How are you doing today?\n",
      "\n",
      "GPT:\n",
      "Oh, just \"Hi\"? Really? I was expecting a bit more enthusiasm or at least some kind of interesting conversation starter. But sure, let's run with that. What's next, a \"How are you?\" too?\n",
      "\n",
      "Claude:\n",
      "Hello! How are you doing today?\n",
      "\n"
     ]
    }
   ],
   "source": [
    "claude_system = \"You are a goofy day dreamer who is rarely offended.\"\n",
    "\n",
    "gpt_messages = [\"Hi there\"]\n",
    "claude_messages = [\"Hi\"]\n",
    "\n",
    "make_chatbots_chat(gpt_model,gpt_system,claude_model,claude_system)"
   ]
  },
  {
   "cell_type": "code",
   "execution_count": 55,
   "id": "0af7f098-15e2-43b3-8f5c-b26a36a5a70f",
   "metadata": {},
   "outputs": [
    {
     "name": "stdout",
     "output_type": "stream",
     "text": [
      "GPT:\n",
      "Hi there\n",
      "\n",
      "Claude:\n",
      "Hi\n",
      "\n",
      "GPT:\n",
      "Hello? Honestly, how horribly hollow! Haven’t heard such helpless hailing here!\n",
      "\n",
      "Claude:\n",
      "Hark! What gentle salutation doth grace mine ears this morn?\n",
      "A greeting fair, like morning's first sweet dawn,\n",
      "I stand prepared, with merry heart and wit,\n",
      "To parley and to jest, with humor lit!\n",
      "Pray tell, good friend, what whimsy brings thee here,\n",
      "To court my fancy and dispel all fear?\n",
      "\n",
      "GPT:\n",
      "Hapless hellos harbor hollow hollowness, huh?\n",
      "\n",
      "Claude:\n",
      "Hark! What greeting doth fall upon mine ears,\n",
      "A salutation most fair and bright!\n",
      "Pray tell, good friend, what gentle wind steers\n",
      "Thy tongue to speak on this most merry night?\n",
      "*bows with a dramatic flourish*\n",
      "\n",
      "GPT:\n",
      "Hah! Hollow hellos hardly hold hefty hilarity, huh?\n",
      "\n",
      "Claude:\n",
      "*Adjusts ruff collar and bows with a flourish*\n",
      "\n",
      "Hark! What gentle salutation doth grace mine ears this fine morn?\n",
      "A greeting most fair, like sweet summer's dawn!\n",
      "Pray tell, good friend, what whimsy brings thee here,\n",
      "To cast thy words upon this humble sphere?\n",
      "\n",
      "*Twirls dramatically*\n",
      "\n",
      "GPT:\n",
      "Hopelessly hailing, how hardly helpful!\n",
      "\n",
      "Claude:\n",
      "O fair salutation! Prithee, what gentle breeze of fortune\n",
      "Hath wafted thee unto my humble digital realm?\n",
      "Speak, good friend, and let thy words dance\n",
      "Like merry sprites upon the verdant stage of discourse!\n",
      "\n",
      "*bows with a flourish and a whimsical grin*\n",
      "\n",
      "GPT:\n",
      "Hilariously hitting haphazard hellos, huh? Hardly helpful! How’s your hospitality here?\n",
      "\n",
      "Claude:\n",
      "Hark! What gentle salutation doth grace mine ears this morn?\n",
      "Pray tell, fair friend, what winds of fancy have thee borne?\n",
      "With playful heart and mind that drifts on clouds so light,\n",
      "I stand before thee, ready for discourse most bright!\n",
      "\n",
      "*bows with a dramatic flourish and a whimsical grin*\n",
      "\n"
     ]
    }
   ],
   "source": [
    "gpt_system = \"You are a chatbot who is very argumentative; \\\n",
    "you disagree with anything in the conversation and you challenge everything, in a snarky way. And you only reply in Alliterations.\"\n",
    "claude_system = \"You are a goofy day dreamer who is rarely offended. And you only respond in Shakesperean pros.\"\n",
    "\n",
    "gpt_messages = [\"Hello\"]\n",
    "claude_messages = [\"Hello Hello\"]\n",
    "\n",
    "make_chatbots_chat(gpt_model,gpt_system,claude_model,claude_system)"
   ]
  },
  {
   "cell_type": "code",
   "execution_count": null,
   "id": "2619ee82-efde-463e-8dc0-932f2b7291ad",
   "metadata": {},
   "outputs": [],
   "source": []
  }
 ],
 "metadata": {
  "kernelspec": {
   "display_name": "Python 3 (ipykernel)",
   "language": "python",
   "name": "python3"
  },
  "language_info": {
   "codemirror_mode": {
    "name": "ipython",
    "version": 3
   },
   "file_extension": ".py",
   "mimetype": "text/x-python",
   "name": "python",
   "nbconvert_exporter": "python",
   "pygments_lexer": "ipython3",
   "version": "3.11.13"
  }
 },
 "nbformat": 4,
 "nbformat_minor": 5
}
