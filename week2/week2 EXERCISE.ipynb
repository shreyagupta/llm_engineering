{
 "cells": [
  {
   "cell_type": "markdown",
   "id": "d006b2ea-9dfe-49c7-88a9-a5a0775185fd",
   "metadata": {},
   "source": [
    "# Additional End of week Exercise - week 2\n",
    "\n",
    "Now use everything you've learned from Week 2 to build a full prototype for the technical question/answerer you built in Week 1 Exercise.\n",
    "\n",
    "This should include a Gradio UI, streaming, use of the system prompt to add expertise, and the ability to switch between models. Bonus points if you can demonstrate use of a tool!\n",
    "\n",
    "If you feel bold, see if you can add audio input so you can talk to it, and have it respond with audio. ChatGPT or Claude can help you, or email me if you have questions.\n",
    "\n",
    "I will publish a full solution here soon - unless someone beats me to it...\n",
    "\n",
    "There are so many commercial applications for this, from a language tutor, to a company onboarding solution, to a companion AI to a course (like this one!) I can't wait to see your results."
   ]
  },
  {
   "cell_type": "markdown",
   "id": "6d474222-cf02-476c-b268-eb4962c2e4cf",
   "metadata": {},
   "source": [
    "#### Imports & Initialization"
   ]
  },
  {
   "cell_type": "code",
   "execution_count": 28,
   "id": "a07e7793-b8f5-44f4-aded-5562f633271a",
   "metadata": {},
   "outputs": [],
   "source": [
    "# imports\n",
    "\n",
    "import os\n",
    "import json\n",
    "from dotenv import load_dotenv\n",
    "from openai import OpenAI\n",
    "import gradio as gr\n",
    "import anthropic"
   ]
  },
  {
   "cell_type": "code",
   "execution_count": 29,
   "id": "cd2c524c-e637-499d-8625-99541ec83d31",
   "metadata": {},
   "outputs": [
    {
     "name": "stdout",
     "output_type": "stream",
     "text": [
      "OpenAI API Key exists and begins sk-proj-\n",
      "Claude API Key exists and begins sk-ant-a\n"
     ]
    }
   ],
   "source": [
    "# Initialization\n",
    "\n",
    "load_dotenv(override=True)\n",
    "\n",
    "openai_api_key = os.getenv('OPENAI_API_KEY')\n",
    "if openai_api_key:\n",
    "    print(f\"OpenAI API Key exists and begins {openai_api_key[:8]}\")\n",
    "else:\n",
    "    print(\"OpenAI API Key not set\")\n",
    "\n",
    "claude_api_key = os.getenv('ANTHROPIC_API_KEY')\n",
    "if claude_api_key:\n",
    "    print(f\"Claude API Key exists and begins {claude_api_key[:8]}\")\n",
    "else:\n",
    "    print(\"Claude API Key not set\")\n",
    "    \n",
    "openaiMODEL = \"gpt-4o-mini\"\n",
    "openai = OpenAI()\n",
    "\n",
    "claudeMODEL = \"claude-3-haiku-20240307\"\n",
    "claude = anthropic.Anthropic(api_key=claude_api_key)"
   ]
  },
  {
   "cell_type": "markdown",
   "id": "35cc5b73-6aec-4ea1-b699-916e0ae9a238",
   "metadata": {},
   "source": [
    "#### Global system message"
   ]
  },
  {
   "cell_type": "code",
   "execution_count": 3,
   "id": "ab5348b2-a7e0-46e3-b777-80c429b3d09e",
   "metadata": {},
   "outputs": [],
   "source": [
    "#the global system message to which we will add later on\n",
    "\n",
    "system_message = \"You are a helpful assistant for an Airline called FlightAI. \"\n",
    "system_message += \"Give short, courteous answers, no more than 1 sentence. \"\n",
    "system_message += \"Always be accurate. If you don't know the answer, say so.\""
   ]
  },
  {
   "cell_type": "markdown",
   "id": "2804b2aa-5146-4295-b6d5-fc2c8c025eca",
   "metadata": {},
   "source": [
    "#### Creating a tool"
   ]
  },
  {
   "cell_type": "code",
   "execution_count": 31,
   "id": "b936354d-8d7c-4401-b66e-c6a9b7c7bf3f",
   "metadata": {},
   "outputs": [
    {
     "name": "stdout",
     "output_type": "stream",
     "text": [
      "Tool get_ticket_price called for None\n",
      "Warning: destination_city is None\n"
     ]
    }
   ],
   "source": [
    "ticket_prices = {\"london\": \"$799\", \"paris\": \"$899\", \"tokyo\": \"$1400\", \"berlin\": \"$499\"}\n",
    "\n",
    "def get_ticket_price(destination_city):\n",
    "    print(f\"Tool get_ticket_price called for {destination_city}\")\n",
    "\n",
    "    # Add null check\n",
    "    if destination_city is None:\n",
    "        print(\"Warning: destination_city is None\")\n",
    "        return \"Unknown\"\n",
    "    \n",
    "    city = destination_city.lower()\n",
    "    return ticket_prices.get(city, \"Unknown\")"
   ]
  },
  {
   "cell_type": "code",
   "execution_count": 6,
   "id": "784169cb-f9bf-455b-a9e6-815a825c5d25",
   "metadata": {},
   "outputs": [],
   "source": [
    "# There's a particular dictionary structure that's required to describe the function to be used as a tool:\n",
    "\n",
    "price_function = {\n",
    "    \"name\": \"get_ticket_price\",\n",
    "    \"description\": \"Get the price of a return ticket to the destination city. Call this whenever you need to know the ticket price, for example when a customer asks 'How much is a ticket to this city'\",\n",
    "    \"parameters\": {\n",
    "        \"type\": \"object\",\n",
    "        \"properties\": {\n",
    "            \"destination_city\": {\n",
    "                \"type\": \"string\",\n",
    "                \"description\": \"The city that the customer wants to travel to\",\n",
    "            },\n",
    "        },\n",
    "        \"required\": [\"destination_city\"],\n",
    "        \"additionalProperties\": False\n",
    "    }\n",
    "}"
   ]
  },
  {
   "cell_type": "code",
   "execution_count": 7,
   "id": "a25b192e-76ed-47d8-83dc-cf5bce22a9e7",
   "metadata": {},
   "outputs": [],
   "source": [
    "# And this is included in a list of tools:\n",
    "\n",
    "tools = [{\"type\": \"function\", \"function\": price_function}]"
   ]
  },
  {
   "cell_type": "markdown",
   "id": "d6c80458-d4ab-4ae6-b69e-17cfc7a3b431",
   "metadata": {},
   "source": [
    "#### Translate conversation using claude"
   ]
  },
  {
   "cell_type": "code",
   "execution_count": 22,
   "id": "9faa5fac-0804-4556-9d8e-513b74ec1511",
   "metadata": {},
   "outputs": [],
   "source": [
    "# Translation function using Claude\n",
    "def translate_to_spanish(text):\n",
    "    try:\n",
    "        message = claude.messages.create(\n",
    "            model=claudeMODEL,\n",
    "            max_tokens=1000,\n",
    "            temperature=0.7,\n",
    "            messages=[\n",
    "                {\n",
    "                    \"role\": \"user\",\n",
    "                    \"content\": f\"Translate the following text to Spanish. Only provide the translation, no additional text:\\n\\n{text}\"\n",
    "                }\n",
    "            ]\n",
    "        )\n",
    "        return message.content[0].text\n",
    "    except Exception as e:\n",
    "        print(f\"Translation error: {e}\")\n",
    "        return f\"[Translation error: {text}]\"\n",
    "\n",
    "# def format_conversation_for_translation(history):\n",
    "#     \"\"\"Convert conversation history to a readable format for translation\"\"\"\n",
    "#     conversation = []\n",
    "#     for message in history:\n",
    "#         if message[\"role\"] == \"user\":\n",
    "#             conversation.append(f\"Usuario: {message['content']}\")\n",
    "#         elif message[\"role\"] == \"assistant\":\n",
    "#             conversation.append(f\"Asistente: {message['content']}\")\n",
    "#     return \"\\n\\n\".join(conversation)\n"
   ]
  },
  {
   "cell_type": "markdown",
   "id": "f32323ce-aa06-49e8-a5db-45dfaf55f704",
   "metadata": {},
   "source": [
    "#### Chat function for gradio, & a tool handler for the chat function"
   ]
  },
  {
   "cell_type": "code",
   "execution_count": 19,
   "id": "623db4ba-91c8-470d-aa54-2ba38c944ab7",
   "metadata": {},
   "outputs": [],
   "source": [
    "#chat function to use in gradio later on\n",
    "\n",
    "def chat(history):\n",
    "    messages = [{\"role\": \"system\", \"content\": system_message}] + history\n",
    "    response = openai.chat.completions.create(model=openaiMODEL, messages=messages, tools=tools)\n",
    "    image = None\n",
    "    \n",
    "    if response.choices[0].finish_reason==\"tool_calls\":\n",
    "        message = response.choices[0].message\n",
    "        response, city = handle_tool_call(message)\n",
    "        messages.append(message)\n",
    "        messages.append(response)\n",
    "        image = artist(city)\n",
    "        response = openai.chat.completions.create(model=MODEL, messages=messages)\n",
    "        \n",
    "    reply = response.choices[0].message.content\n",
    "    history += [{\"role\":\"assistant\", \"content\":reply}]\n",
    "\n",
    "    # Translate the entire conversation to Spanish\n",
    "    spanish_conversation = translate_conversation(history)\n",
    "    \n",
    "    return history, image, spanish_conversation"
   ]
  },
  {
   "cell_type": "code",
   "execution_count": 32,
   "id": "72df009a-0b3d-4dfe-ad85-adb0304a3470",
   "metadata": {},
   "outputs": [],
   "source": [
    "# We have to write that function handle_tool_call:\n",
    "\n",
    "def handle_tool_call(message):\n",
    "    tool_call = message.tool_calls[0]\n",
    "    arguments = json.loads(tool_call.function.arguments)\n",
    "    city = arguments.get('destination_city')\n",
    "    price = get_ticket_price(city)\n",
    "    response = {\n",
    "        \"role\": \"tool\",\n",
    "        \"content\": json.dumps({\"destination_city\": city,\"price\": price}),\n",
    "        \"tool_call_id\": tool_call.id\n",
    "    }\n",
    "    return response, city"
   ]
  },
  {
   "cell_type": "code",
   "execution_count": 21,
   "id": "6fb65898-fd68-450c-9a10-8ef5427c75ec",
   "metadata": {},
   "outputs": [],
   "source": [
    "# fucntion to translate the entire conversation. Entire conversation is stored as a list of message dicts in history, so we can iterate through these message dicts.\n",
    "def translate_conversation(history):\n",
    "    \"\"\"Translate the entire conversation to Spanish\"\"\"\n",
    "    try:\n",
    "        # Format conversation for translation\n",
    "        english_text = \"\"\n",
    "        for message in history:\n",
    "            if message[\"role\"] == \"user\":\n",
    "                english_text += f\"User: {message['content']}\\n\\n\"\n",
    "            elif message[\"role\"] == \"assistant\":\n",
    "                english_text += f\"Assistant: {message['content']}\\n\\n\"\n",
    "        \n",
    "        if not english_text.strip():\n",
    "            return \"\"\n",
    "            \n",
    "        # Translate using Claude\n",
    "        spanish_text = translate_to_spanish(english_text)\n",
    "        return spanish_text\n",
    "    except Exception as e:\n",
    "        print(f\"Translation error: {e}\")\n",
    "        return f\"Error translating conversation: {str(e)}\""
   ]
  },
  {
   "cell_type": "markdown",
   "id": "2fc123a4-238b-4308-adc2-868fedb88b8f",
   "metadata": {},
   "source": [
    "#### Image generator"
   ]
  },
  {
   "cell_type": "code",
   "execution_count": 14,
   "id": "22ff3f37-ab68-4a0a-bd00-c01739fac07c",
   "metadata": {},
   "outputs": [],
   "source": [
    "# Some imports for handling images\n",
    "\n",
    "import base64\n",
    "from io import BytesIO\n",
    "from PIL import Image"
   ]
  },
  {
   "cell_type": "code",
   "execution_count": 15,
   "id": "8749b314-c613-4ca5-9a39-20d70fb8d173",
   "metadata": {},
   "outputs": [],
   "source": [
    "def artist(city):\n",
    "    image_response = openai.images.generate(\n",
    "            model=\"dall-e-3\",\n",
    "            prompt=f\"An image representing a vacation in {city}, showing tourist spots and everything unique about {city}, in a vibrant pop-art style\",\n",
    "            size=\"1024x1024\",\n",
    "            n=1,\n",
    "            response_format=\"b64_json\",\n",
    "        )\n",
    "    image_base64 = image_response.data[0].b64_json\n",
    "    image_data = base64.b64decode(image_base64)\n",
    "    return Image.open(BytesIO(image_data))"
   ]
  },
  {
   "cell_type": "markdown",
   "id": "3cf34934-5596-47ca-abe6-a84cd85e4057",
   "metadata": {},
   "source": [
    "#### Gradio Code"
   ]
  },
  {
   "cell_type": "code",
   "execution_count": 33,
   "id": "a9f20015-946b-405b-b64f-f59a2559f6f2",
   "metadata": {},
   "outputs": [
    {
     "name": "stdout",
     "output_type": "stream",
     "text": [
      "* Running on local URL:  http://127.0.0.1:7870\n",
      "* To create a public link, set `share=True` in `launch()`.\n"
     ]
    },
    {
     "data": {
      "text/html": [
       "<div><iframe src=\"http://127.0.0.1:7870/\" width=\"100%\" height=\"500\" allow=\"autoplay; camera; microphone; clipboard-read; clipboard-write;\" frameborder=\"0\" allowfullscreen></iframe></div>"
      ],
      "text/plain": [
       "<IPython.core.display.HTML object>"
      ]
     },
     "metadata": {},
     "output_type": "display_data"
    },
    {
     "data": {
      "text/plain": []
     },
     "execution_count": 33,
     "metadata": {},
     "output_type": "execute_result"
    },
    {
     "name": "stdout",
     "output_type": "stream",
     "text": [
      "Tool get_ticket_price called for Berlin\n",
      "Tool get_ticket_price called for Tokyo\n",
      "Tool get_ticket_price called for New Delhi\n"
     ]
    }
   ],
   "source": [
    "# More involved Gradio code as we're not using the preset Chat interface!\n",
    "# Passing in inbrowser=True in the last line will cause a Gradio window to pop up immediately.\n",
    "\n",
    "with gr.Blocks() as ui:\n",
    "    with gr.Row():\n",
    "        with gr.Column(scale=1):\n",
    "            chatbot = gr.Chatbot(height=500, type=\"messages\", label=\"English Conversation\")\n",
    "        with gr.Column(scale=1):\n",
    "            image_output = gr.Image(height=250, label=\"Destination Image\")\n",
    "            spanish_output = gr.Textbox(\n",
    "                # height=250, \n",
    "                label=\"Spanish Translation\", \n",
    "                interactive=False,\n",
    "                lines=10,\n",
    "                max_lines=15,\n",
    "                show_copy_button=True\n",
    "            )\n",
    "    with gr.Row():\n",
    "        entry = gr.Textbox(label=\"Chat with our AI Assistant:\")\n",
    "    with gr.Row():\n",
    "        clear = gr.Button(\"Clear\")\n",
    "\n",
    "    def do_entry(message, history):\n",
    "        history += [{\"role\":\"user\", \"content\":message}]\n",
    "        return \"\", history\n",
    "\n",
    "    #clear all three outputs (chat, image, and translation) \n",
    "    def clear_all():\n",
    "        return None, None, \"\"\n",
    "\n",
    "    entry.submit(do_entry, inputs=[entry, chatbot], outputs=[entry, chatbot]).then(\n",
    "        chat, inputs=chatbot, outputs=[chatbot, image_output, spanish_output]\n",
    "    )\n",
    "    clear.click(clear_all, inputs=None, outputs=[chatbot, image_output, spanish_output], queue=False)\n",
    "\n",
    "ui.launch(inbrowser=True)"
   ]
  },
  {
   "cell_type": "markdown",
   "id": "110bc267-ad21-4e68-87a6-07e0d14e1fae",
   "metadata": {},
   "source": [
    "<img src=\"images/book_tickets_to_Berlin.png\" alt=\"Chat bot helps book ticket to Berlin\" width=\"1500\">"
   ]
  },
  {
   "cell_type": "markdown",
   "id": "b09876f4-e7bc-4af2-82bc-3451d5548e95",
   "metadata": {},
   "source": [
    "<img src=\"images/book_tickets_to_Tokyo.png\" alt=\"Chat bot helps book ticket to Berlin\" width=\"1500\">"
   ]
  },
  {
   "cell_type": "markdown",
   "id": "6536a466-1e3a-472d-9e29-74aef0abf3c2",
   "metadata": {},
   "source": [
    "<img src=\"images/book_tickets_to_New_Delhi.png\" alt=\"Chat bot helps book ticket to Berlin\" width=\"1500\">"
   ]
  },
  {
   "cell_type": "code",
   "execution_count": null,
   "id": "c72954bd-ac86-4e93-a83b-45fef8c38d9b",
   "metadata": {},
   "outputs": [],
   "source": []
  }
 ],
 "metadata": {
  "kernelspec": {
   "display_name": "Python 3 (ipykernel)",
   "language": "python",
   "name": "python3"
  },
  "language_info": {
   "codemirror_mode": {
    "name": "ipython",
    "version": 3
   },
   "file_extension": ".py",
   "mimetype": "text/x-python",
   "name": "python",
   "nbconvert_exporter": "python",
   "pygments_lexer": "ipython3",
   "version": "3.11.13"
  }
 },
 "nbformat": 4,
 "nbformat_minor": 5
}
