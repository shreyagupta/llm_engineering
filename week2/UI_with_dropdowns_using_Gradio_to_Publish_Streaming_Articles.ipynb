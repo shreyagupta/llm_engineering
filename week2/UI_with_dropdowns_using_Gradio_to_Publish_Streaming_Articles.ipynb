{
 "cells": [
  {
   "cell_type": "markdown",
   "id": "8b0e11f2-9ea4-48c2-b8d2-d0a4ba967827",
   "metadata": {},
   "source": [
    "# UI with drop down menus using Gradio Day to print streaming Articles!\n",
    "\n",
    "Or my personal chatgpt?!"
   ]
  },
  {
   "cell_type": "code",
   "execution_count": 1,
   "id": "c44c5494-950d-4d2f-8d4f-b87b57c5b330",
   "metadata": {},
   "outputs": [],
   "source": [
    "# imports\n",
    "\n",
    "import os\n",
    "import requests\n",
    "from bs4 import BeautifulSoup\n",
    "from typing import List\n",
    "from dotenv import load_dotenv\n",
    "from openai import OpenAI\n",
    "import google.generativeai\n",
    "import anthropic"
   ]
  },
  {
   "cell_type": "code",
   "execution_count": 95,
   "id": "d1715421-cead-400b-99af-986388a97aff",
   "metadata": {},
   "outputs": [],
   "source": [
    "import gradio as gr # oh yeah!"
   ]
  },
  {
   "cell_type": "code",
   "execution_count": 96,
   "id": "337d5dfc-0181-4e3b-8ab9-e78e0c3f657b",
   "metadata": {},
   "outputs": [
    {
     "name": "stdout",
     "output_type": "stream",
     "text": [
      "OpenAI API Key exists and begins sk-proj-\n",
      "Anthropic API Key exists and begins sk-ant-\n",
      "Google API Key not set\n"
     ]
    }
   ],
   "source": [
    "# Load environment variables in a file called .env\n",
    "# Print the key prefixes to help with any debugging\n",
    "\n",
    "load_dotenv(override=True)\n",
    "openai_api_key = os.getenv('OPENAI_API_KEY')\n",
    "anthropic_api_key = os.getenv('ANTHROPIC_API_KEY')\n",
    "google_api_key = os.getenv('GOOGLE_API_KEY')\n",
    "\n",
    "if openai_api_key:\n",
    "    print(f\"OpenAI API Key exists and begins {openai_api_key[:8]}\")\n",
    "else:\n",
    "    print(\"OpenAI API Key not set\")\n",
    "    \n",
    "if anthropic_api_key:\n",
    "    print(f\"Anthropic API Key exists and begins {anthropic_api_key[:7]}\")\n",
    "else:\n",
    "    print(\"Anthropic API Key not set\")\n",
    "\n",
    "if google_api_key:\n",
    "    print(f\"Google API Key exists and begins {google_api_key[:8]}\")\n",
    "else:\n",
    "    print(\"Google API Key not set\")"
   ]
  },
  {
   "cell_type": "code",
   "execution_count": 97,
   "id": "22586021-1795-4929-8079-63f5bb4edd4c",
   "metadata": {},
   "outputs": [],
   "source": [
    "# Connect to OpenAI, Anthropic and Google; comment out the Claude or Google lines if you're not using them\n",
    "\n",
    "openai = OpenAI()\n",
    "\n",
    "claude = anthropic.Anthropic()\n",
    "\n",
    "google.generativeai.configure()"
   ]
  },
  {
   "cell_type": "code",
   "execution_count": 93,
   "id": "1626eb2e-eee8-4183-bda5-1591b58ae3cf",
   "metadata": {},
   "outputs": [],
   "source": [
    "# A class to represent a Webpage\n",
    "\n",
    "class Website:\n",
    "    url: str\n",
    "    title: str\n",
    "    text: str\n",
    "\n",
    "    def __init__(self, url):\n",
    "        self.url = url\n",
    "        response = requests.get(url)\n",
    "        self.body = response.content\n",
    "        soup = BeautifulSoup(self.body, 'html.parser')\n",
    "        self.title = soup.title.string if soup.title else \"No title found\"\n",
    "        if soup.body:\n",
    "            for irrelevant in soup.body([\"script\", \"style\", \"img\", \"input\"]):\n",
    "                irrelevant.decompose()\n",
    "            self.text = soup.body.get_text(separator=\"\\n\", strip=True)\n",
    "        else:\n",
    "            self.text = \"\"\n",
    "\n",
    "    def get_contents(self):\n",
    "        return f\"Webpage Title:\\n{self.title}\\nWebpage Contents:\\n{self.text}\\n\\n\""
   ]
  },
  {
   "cell_type": "code",
   "execution_count": 90,
   "id": "ede97ca3-a0f8-4f6e-be17-d1de7fef9cc0",
   "metadata": {},
   "outputs": [],
   "source": [
    "system_prompt = \"You are provided with a list of links found on a wikipedia search result page. \\\n",
    "You are able to decide which of the links would be most relevant to include in a creative snapshot summary about the topic searched on wikipedia., \\\n",
    "such as links technical terms, important people listed in the wikipedia description, links to any historical references, books, movies, awards, etc,.\\n\"\n",
    "system_prompt += \"For a company cover their founders, key persons, competing founders, products, company culture, revenue and future product outlook.\"\n",
    "\n",
    "system_prompt += \"For a famous persona cover what they are famous for, their work, especially the popular ones. Why did this work become popular. Awards they have won. \\\n",
    "They education, info about their spouses, partners, family and kids. What direction they are thinking of working in in the future (or have they stopped working)? \\\n",
    "Struggles they have faced and what it took them to get where they are.\"\n",
    "system_prompt += \"You should respond in Markdown.\"\n",
    "system_prompt += \"The examples are over! If I have more details I will share it after this sentence.\""
   ]
  },
  {
   "cell_type": "code",
   "execution_count": 91,
   "id": "534696b8-6e89-4681-ace2-d5800be9696f",
   "metadata": {},
   "outputs": [],
   "source": [
    "def stream_gpt_with_tone(user_prompt,system_prompt_param):\n",
    "    messages = [\n",
    "        {\"role\": \"system\", \"content\": system_prompt_param},\n",
    "        {\"role\": \"user\", \"content\": user_prompt}\n",
    "      ]\n",
    "    stream = openai.chat.completions.create(\n",
    "        model='gpt-4o-mini',\n",
    "        messages=messages,\n",
    "        stream=True\n",
    "    )\n",
    "    result = \"\"\n",
    "    for chunk in stream:\n",
    "        result += chunk.choices[0].delta.content or \"\"\n",
    "        yield result\n",
    "\n",
    "def stream_claude_with_tone(user_prompt,system_prompt_param):\n",
    "    result = claude.messages.stream(\n",
    "        model=\"claude-3-haiku-20240307\",\n",
    "        max_tokens=1000,\n",
    "        temperature=0.7,\n",
    "        system=system_prompt_param,\n",
    "        messages=[\n",
    "            {\"role\": \"user\", \"content\": user_prompt},\n",
    "        ],\n",
    "    )\n",
    "    response = \"\"\n",
    "    with result as stream:\n",
    "        for text in stream.text_stream:\n",
    "            response += text or \"\"\n",
    "            yield response"
   ]
  },
  {
   "cell_type": "code",
   "execution_count": 92,
   "id": "478b6084-9ece-41ab-98ff-d792bb4c914d",
   "metadata": {},
   "outputs": [],
   "source": [
    "def stream_magazine_article(company_name, url, model, tone):\n",
    "    yield \"\"\n",
    "    system_prompt_param = system_prompt\n",
    "    if len(tone)>0:\n",
    "        system_prompt_param+=f\" Btw, you have a {tone} tone when creating the brochure, so don't be afraid to really lean into this tone!\"\n",
    "    user_prompt = f\"Please generate a company brochure for {company_name}. Here is their landing page:\\n\"\n",
    "    user_prompt += Website(url).get_contents()\n",
    "    if model==\"GPT\":\n",
    "        result = stream_gpt_with_tone(user_prompt, system_prompt_param)\n",
    "    elif model==\"Claude\":\n",
    "        result = stream_claude_with_tone(user_prompt, system_prompt_param)\n",
    "    else:\n",
    "        raise ValueError(\"Unknown model\")\n",
    "    yield from result"
   ]
  },
  {
   "cell_type": "code",
   "execution_count": 94,
   "id": "939fca20-f655-409f-a5e5-fb51df0a8ee0",
   "metadata": {},
   "outputs": [
    {
     "name": "stdout",
     "output_type": "stream",
     "text": [
      "* Running on local URL:  http://127.0.0.1:7890\n",
      "* To create a public link, set `share=True` in `launch()`.\n"
     ]
    },
    {
     "data": {
      "text/html": [
       "<div><iframe src=\"http://127.0.0.1:7890/\" width=\"100%\" height=\"500\" allow=\"autoplay; camera; microphone; clipboard-read; clipboard-write;\" frameborder=\"0\" allowfullscreen></iframe></div>"
      ],
      "text/plain": [
       "<IPython.core.display.HTML object>"
      ]
     },
     "metadata": {},
     "output_type": "display_data"
    },
    {
     "data": {
      "text/plain": []
     },
     "execution_count": 94,
     "metadata": {},
     "output_type": "execute_result"
    }
   ],
   "source": [
    "view = gr.Interface(\n",
    "    fn=stream_magazine_article,\n",
    "    inputs=[\n",
    "        gr.Textbox(label=\"Company or Person name:\"),\n",
    "        gr.Textbox(label=\"Wikipedia url\"),\n",
    "        gr.Dropdown([\"GPT\", \"Claude\"], label=\"Select model\"),\n",
    "        gr.Dropdown([\"\", \"Funny\", \"Snarky\",\"Very Intellectual\", \"Poetic\"], label=\"Tone\")\n",
    "    ],\n",
    "    outputs=[gr.Markdown(label=\"Newsletter Article:\")],\n",
    "    flagging_mode=\"never\"\n",
    ")\n",
    "view.launch()\n",
    "#https://en.wikipedia.org/wiki/Meryl_Streep"
   ]
  },
  {
   "cell_type": "markdown",
   "id": "4d99053f-5d85-4448-939a-b227d10de99e",
   "metadata": {},
   "source": [
    "# END"
   ]
  },
  {
   "cell_type": "code",
   "execution_count": null,
   "id": "d0d237da-dad0-4e62-9411-399e6033c677",
   "metadata": {},
   "outputs": [],
   "source": []
  }
 ],
 "metadata": {
  "kernelspec": {
   "display_name": "Python 3 (ipykernel)",
   "language": "python",
   "name": "python3"
  },
  "language_info": {
   "codemirror_mode": {
    "name": "ipython",
    "version": 3
   },
   "file_extension": ".py",
   "mimetype": "text/x-python",
   "name": "python",
   "nbconvert_exporter": "python",
   "pygments_lexer": "ipython3",
   "version": "3.11.13"
  }
 },
 "nbformat": 4,
 "nbformat_minor": 5
}
