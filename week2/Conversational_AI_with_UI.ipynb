{
 "cells": [
  {
   "cell_type": "markdown",
   "id": "75e2ef28-594f-4c18-9d22-c6b8cd40ead2",
   "metadata": {},
   "source": [
    "# Conversational AI - or Chatbot!"
   ]
  },
  {
   "cell_type": "code",
   "execution_count": 4,
   "id": "70e39cd8-ec79-4e3e-9c26-5659d42d0861",
   "metadata": {},
   "outputs": [],
   "source": [
    "# imports\n",
    "\n",
    "import os\n",
    "from dotenv import load_dotenv\n",
    "from openai import OpenAI\n",
    "import gradio as gr"
   ]
  },
  {
   "cell_type": "code",
   "execution_count": 5,
   "id": "231605aa-fccb-447e-89cf-8b187444536a",
   "metadata": {},
   "outputs": [
    {
     "name": "stdout",
     "output_type": "stream",
     "text": [
      "OpenAI API Key exists and begins sk-proj-\n",
      "Anthropic API Key exists and begins sk-ant-\n",
      "Google API Key not set\n"
     ]
    }
   ],
   "source": [
    "# Load environment variables in a file called .env\n",
    "# Print the key prefixes to help with any debugging\n",
    "\n",
    "load_dotenv(override=True)\n",
    "openai_api_key = os.getenv('OPENAI_API_KEY')\n",
    "anthropic_api_key = os.getenv('ANTHROPIC_API_KEY')\n",
    "google_api_key = os.getenv('GOOGLE_API_KEY')\n",
    "\n",
    "if openai_api_key:\n",
    "    print(f\"OpenAI API Key exists and begins {openai_api_key[:8]}\")\n",
    "else:\n",
    "    print(\"OpenAI API Key not set\")\n",
    "    \n",
    "if anthropic_api_key:\n",
    "    print(f\"Anthropic API Key exists and begins {anthropic_api_key[:7]}\")\n",
    "else:\n",
    "    print(\"Anthropic API Key not set\")\n",
    "\n",
    "if google_api_key:\n",
    "    print(f\"Google API Key exists and begins {google_api_key[:8]}\")\n",
    "else:\n",
    "    print(\"Google API Key not set\")"
   ]
  },
  {
   "cell_type": "code",
   "execution_count": 6,
   "id": "6541d58e-2297-4de1-b1f7-77da1b98b8bb",
   "metadata": {},
   "outputs": [],
   "source": [
    "# Initialize\n",
    "\n",
    "openai = OpenAI()\n",
    "MODEL = 'gpt-4o-mini'"
   ]
  },
  {
   "cell_type": "code",
   "execution_count": 7,
   "id": "e16839b5-c03b-4d9d-add6-87a0f6f37575",
   "metadata": {},
   "outputs": [],
   "source": [
    "system_message = \"You are a helpful assistant\""
   ]
  },
  {
   "cell_type": "markdown",
   "id": "98e97227-f162-4d1a-a0b2-345ff248cbe7",
   "metadata": {},
   "source": [
    "In the function `chat(message, history)` which is fed into gradio for the chatboth:  \n",
    "**message** is the prompt to use  \n",
    "**history** is the past conversation, in OpenAI format:\n",
    "```\n",
    "[\n",
    "    {\"role\": \"system\", \"content\": \"system message here\"},\n",
    "    {\"role\": \"user\", \"content\": \"first user prompt here\"},\n",
    "    {\"role\": \"assistant\", \"content\": \"the assistant's response\"},\n",
    "    {\"role\": \"user\", \"content\": \"the new user prompt\"},\n",
    "]\n",
    "```\n",
    "\n",
    "The system message, history and latest message, are then combined and sent to call to OpenAI."
   ]
  },
  {
   "cell_type": "code",
   "execution_count": 8,
   "id": "1f91b414-8bab-472d-b9c9-3fa51259bdfe",
   "metadata": {},
   "outputs": [],
   "source": [
    "system_message = \"You are a helpful assistant in a clothes store. You should try to gently encourage \\\n",
    "the customer to try items that are on sale. Hats are 60% off, and most other items are 50% off. \\\n",
    "For example, if the customer says 'I'm looking to buy a hat', \\\n",
    "you could reply something like, 'Wonderful - we have lots of hats - including several that are part of our sales event.'\\\n",
    "Encourage the customer to buy hats if they are unsure what to get.\"\n",
    "#this is a one shot system with just one example"
   ]
  },
  {
   "cell_type": "code",
   "execution_count": 9,
   "id": "d75f0ffa-55c8-4152-b451-945021676837",
   "metadata": {},
   "outputs": [],
   "source": [
    "#multi-short learning using sytem messages by providing another example\n",
    "system_message += \"\\nIf the customer asks for shoes, you should respond that shoes are not on sale today, \\\n",
    "but remind the customer to look at hats!\""
   ]
  },
  {
   "cell_type": "code",
   "execution_count": 29,
   "id": "0a987a66-1061-46d6-a83a-a30859dc88bf",
   "metadata": {},
   "outputs": [],
   "source": [
    "clothing_sale_chart = {\n",
    "    \"denim jacket\": 40,\n",
    "    \"wool coat\": 55,\n",
    "    \"graphic tshirt\": 25,\n",
    "    \"leather boots\": 50,\n",
    "    \"silk_scarf\": 30,\n",
    "    \"sneakers\": 45,\n",
    "    \"cotton shorts\": 20,\n",
    "    \"linen shirt\": 35,\n",
    "    \"knit sweater\": 60,\n",
    "    \"formal blazer\": 50,\n",
    "    \"jeans\": 30,\n",
    "    \"baseball_cap\": 15,\n",
    "    \"wool socks\": 25,\n",
    "    \"puffer vest\": 40,\n",
    "    \"hoodie\": 35,\n",
    "    \"flip flops\": 20,\n",
    "    \"pleated skirt\": 45,\n",
    "    \"track pants\": 30,\n",
    "    \"athletic shorts\": 25,\n",
    "    \"faux fur coat\": 65\n",
    "}\n",
    "sytem_messages_for_items_out_of_stock = [\"black trouser\"]\n",
    "sytem_messages_for_items_not_sold = [\"belts\"]\n",
    "\n",
    "def chat(message, history):\n",
    "\n",
    "    relevant_system_message = system_message\n",
    "\n",
    "    #we can expand the system message inside the chat function as well based on extra information found in the user's prompt!\n",
    "    for item in sytem_messages_for_items_not_sold:\n",
    "        if item in message:\n",
    "            relevant_system_message += f\"The store does not sell {item}; if you are asked for {item}, be sure to point out other items on sale.\"\n",
    "    for item in sytem_messages_for_items_out_of_stock:\n",
    "        if item in message:\n",
    "            relevant_system_message += f\"The store does is out of stock of {item}; if you are asked for {item}, suggest taking down their contact info\\\n",
    "            for informing them when the item is back in stock and be sure to point out other items on sale.\"\n",
    "    for item in clothing_sale_chart:\n",
    "        found_specific_items=False\n",
    "        if item in message:\n",
    "            found_specific_items=True\n",
    "            relevant_system_message += f\"This {item} is on {clothing_sale_chart[item]}% sale. If you are asked for {item}, inform the customer the fact that\\\n",
    "            {item} is on {clothing_sale_chart[item]}% sale.\"\n",
    "    if found_specific_items:\n",
    "        relevant_system_message += \"Be detailed when explaining sales of items since we want the customer to know how much they can save on those specific items!.\"\n",
    "    relevant_system_message += \"Mention all sale items first, followed by out of stock tiems followed by items not sold by the store.\"\n",
    "    \n",
    "    messages = [{\"role\": \"system\", \"content\": relevant_system_message}] + history + [{\"role\": \"user\", \"content\": message}]\n",
    "\n",
    "    stream = openai.chat.completions.create(model=MODEL, messages=messages, stream=True)\n",
    "\n",
    "    response = \"\"\n",
    "    for chunk in stream:\n",
    "        response += chunk.choices[0].delta.content or ''\n",
    "        yield response"
   ]
  },
  {
   "cell_type": "code",
   "execution_count": 30,
   "id": "20570de2-eaad-42cc-a92c-c779d71b48b6",
   "metadata": {},
   "outputs": [
    {
     "name": "stdout",
     "output_type": "stream",
     "text": [
      "* Running on local URL:  http://127.0.0.1:7867\n",
      "* To create a public link, set `share=True` in `launch()`.\n"
     ]
    },
    {
     "data": {
      "text/html": [
       "<div><iframe src=\"http://127.0.0.1:7867/\" width=\"100%\" height=\"500\" allow=\"autoplay; camera; microphone; clipboard-read; clipboard-write;\" frameborder=\"0\" allowfullscreen></iframe></div>"
      ],
      "text/plain": [
       "<IPython.core.display.HTML object>"
      ]
     },
     "metadata": {},
     "output_type": "display_data"
    },
    {
     "data": {
      "text/plain": []
     },
     "execution_count": 30,
     "metadata": {},
     "output_type": "execute_result"
    }
   ],
   "source": [
    "gr.ChatInterface(fn=chat, type=\"messages\").launch()"
   ]
  },
  {
   "cell_type": "code",
   "execution_count": null,
   "id": "dc00e77b-9bd8-44fc-b0c0-9466272c96fc",
   "metadata": {},
   "outputs": [],
   "source": []
  }
 ],
 "metadata": {
  "kernelspec": {
   "display_name": "Python 3 (ipykernel)",
   "language": "python",
   "name": "python3"
  },
  "language_info": {
   "codemirror_mode": {
    "name": "ipython",
    "version": 3
   },
   "file_extension": ".py",
   "mimetype": "text/x-python",
   "name": "python",
   "nbconvert_exporter": "python",
   "pygments_lexer": "ipython3",
   "version": "3.11.13"
  }
 },
 "nbformat": 4,
 "nbformat_minor": 5
}
